{
 "cells": [
  {
   "cell_type": "markdown",
   "metadata": {},
   "source": [
    "# CNN - Predict if an image is a cat or dog"
   ]
  },
  {
   "cell_type": "markdown",
   "metadata": {},
   "source": [
    "# Import Libaries"
   ]
  },
  {
   "cell_type": "code",
   "execution_count": 21,
   "metadata": {},
   "outputs": [],
   "source": [
    "import tensorflow as tf\n",
    "from keras.preprocessing.image import ImageDataGenerator"
   ]
  },
  {
   "cell_type": "markdown",
   "metadata": {},
   "source": [
    "# Part 1 - Data Preprocessing"
   ]
  },
  {
   "cell_type": "markdown",
   "metadata": {},
   "source": [
    " - Preprocessing the Training set"
   ]
  },
  {
   "cell_type": "code",
   "execution_count": 6,
   "metadata": {},
   "outputs": [
    {
     "name": "stdout",
     "output_type": "stream",
     "text": [
      "Found 8000 images belonging to 2 classes.\n"
     ]
    }
   ],
   "source": [
    "# Avoid overfitting by transformations on dataset\n",
    "# Called image augmentation\n",
    "# Use imageDatGenerator to transform images\n",
    "trainDatagen = ImageDataGenerator(\n",
    "    rescale=1./255,\n",
    "    shear_range=0.2,\n",
    "    zoom_range=0.2,\n",
    "    horizontal_flip=True\n",
    ")\n",
    "\n",
    "trainingSet = trainDatagen.flow_from_directory(\n",
    "    'dataset/training_set',\n",
    "    target_size=(64,64), #final size of images\n",
    "    batch_size=32, #sample size\n",
    "    class_mode='binary' # either dog or cat, not both\n",
    ")"
   ]
  },
  {
   "cell_type": "markdown",
   "metadata": {},
   "source": [
    " - Preprocess the test set"
   ]
  },
  {
   "cell_type": "code",
   "execution_count": 7,
   "metadata": {},
   "outputs": [
    {
     "name": "stdout",
     "output_type": "stream",
     "text": [
      "Found 2000 images belonging to 2 classes.\n"
     ]
    }
   ],
   "source": [
    "testDatagen = ImageDataGenerator(\n",
    "    rescale=1./255\n",
    ")\n",
    "\n",
    "testSet = testDatagen.flow_from_directory(\n",
    "    'dataset/test_set',\n",
    "    target_size=(64,64), #final size of images\n",
    "    batch_size=32, #sample size\n",
    "    class_mode='binary' # either dog or cat, not both\n",
    ")"
   ]
  },
  {
   "cell_type": "markdown",
   "metadata": {},
   "source": [
    "# Part 2 - Building the CNN"
   ]
  },
  {
   "cell_type": "markdown",
   "metadata": {},
   "source": [
    "## Initializing the CNN"
   ]
  },
  {
   "cell_type": "code",
   "execution_count": 8,
   "metadata": {},
   "outputs": [
    {
     "name": "stderr",
     "output_type": "stream",
     "text": [
      "2021-10-28 23:42:37.090523: I tensorflow/core/platform/cpu_feature_guard.cc:142] This TensorFlow binary is optimized with oneAPI Deep Neural Network Library (oneDNN) to use the following CPU instructions in performance-critical operations:  AVX2 FMA\n",
      "To enable them in other operations, rebuild TensorFlow with the appropriate compiler flags.\n"
     ]
    }
   ],
   "source": [
    "cnn = tf.keras.Sequential()"
   ]
  },
  {
   "cell_type": "markdown",
   "metadata": {},
   "source": [
    "- Step 1 - Convoluton"
   ]
  },
  {
   "cell_type": "code",
   "execution_count": 9,
   "metadata": {},
   "outputs": [],
   "source": [
    "cnn.add(tf.keras.layers.Conv2D(filters=32, kernel_size = 3, activation='relu', input_shape=[64,64,3]))  #filters - amount of feature detectors, kernal size - number of rows, collums, activation - rectifer rulu, inputShape - three dimisions the rgb 64,64,3(RGB)"
   ]
  },
  {
   "cell_type": "markdown",
   "metadata": {},
   "source": [
    "- Step 2 - Pooling"
   ]
  },
  {
   "cell_type": "code",
   "execution_count": 10,
   "metadata": {},
   "outputs": [],
   "source": [
    "cnn.add(tf.keras.layers.MaxPool2D(pool_size=2,strides=2)) # Pool size - how much to condense(size of filter), strides - how much to shift to the right after pooling one frame, padding - valid (only do full cells)"
   ]
  },
  {
   "cell_type": "markdown",
   "metadata": {},
   "source": [
    "## Add a second convoultional layer"
   ]
  },
  {
   "cell_type": "code",
   "execution_count": 11,
   "metadata": {},
   "outputs": [],
   "source": [
    "cnn.add(tf.keras.layers.Conv2D(filters=32, kernel_size = 3, activation='relu'))  #filters - amount of feature detectors, kernal size - number of rows, collums, activation - rectifer rulu, inputShape - three dimisions the rgb 64,64,3(RGB)\n",
    "cnn.add(tf.keras.layers.MaxPool2D(pool_size=2,strides=2)) # Pool size - how much to condense(size of filter), strides - how much to shift to the right after pooling one frame, padding - valid (only do full cells)"
   ]
  },
  {
   "cell_type": "markdown",
   "metadata": {},
   "source": [
    "- Step 3 - Flattening\n"
   ]
  },
  {
   "cell_type": "code",
   "execution_count": 12,
   "metadata": {},
   "outputs": [],
   "source": [
    "cnn.add(tf.keras.layers.Flatten()) # No parameters needed"
   ]
  },
  {
   "cell_type": "markdown",
   "metadata": {},
   "source": [
    "- Step 4 - Full Connection (add hidden layers of nuerons)"
   ]
  },
  {
   "cell_type": "code",
   "execution_count": 13,
   "metadata": {},
   "outputs": [],
   "source": [
    "cnn.add(tf.keras.layers.Dense(units=128, activation='relu')) #units - amount of nuerons"
   ]
  },
  {
   "cell_type": "markdown",
   "metadata": {},
   "source": [
    " - Step 5 - Output Layer\n"
   ]
  },
  {
   "cell_type": "code",
   "execution_count": 14,
   "metadata": {},
   "outputs": [],
   "source": [
    "cnn.add(tf.keras.layers.Dense(units=1, activation='sigmoid')) #units - amount of nuerons, only need 1 Cat/Dog, acitivation would be softmax if their are multiple class outputs"
   ]
  },
  {
   "cell_type": "markdown",
   "metadata": {},
   "source": [
    "# Part 3 - Train the CNN"
   ]
  },
  {
   "cell_type": "markdown",
   "metadata": {},
   "source": [
    "## Compling the CNN"
   ]
  },
  {
   "cell_type": "code",
   "execution_count": 15,
   "metadata": {},
   "outputs": [],
   "source": [
    "cnn.compile(optimizer='adam', loss='binary_crossentropy', metrics = ['accuracy']) #optimize using adam optimzer, calc weights to minmize loss, binary because cat/dog, metrics is optimzing accuracy"
   ]
  },
  {
   "cell_type": "markdown",
   "metadata": {},
   "source": [
    "## Traning the CNN on the Training set and evaluting it on the Test Set"
   ]
  },
  {
   "cell_type": "code",
   "execution_count": 16,
   "metadata": {},
   "outputs": [
    {
     "name": "stderr",
     "output_type": "stream",
     "text": [
      "2021-10-28 23:42:42.326193: I tensorflow/compiler/mlir/mlir_graph_optimization_pass.cc:176] None of the MLIR Optimization Passes are enabled (registered 2)\n"
     ]
    },
    {
     "name": "stdout",
     "output_type": "stream",
     "text": [
      "Epoch 1/25\n",
      "250/250 [==============================] - 40s 159ms/step - loss: 0.6723 - accuracy: 0.5872 - val_loss: 0.6610 - val_accuracy: 0.6100\n",
      "Epoch 2/25\n",
      "250/250 [==============================] - 34s 138ms/step - loss: 0.6025 - accuracy: 0.6794 - val_loss: 0.6054 - val_accuracy: 0.6745\n",
      "Epoch 3/25\n",
      "250/250 [==============================] - 34s 136ms/step - loss: 0.5630 - accuracy: 0.7125 - val_loss: 0.5329 - val_accuracy: 0.7325\n",
      "Epoch 4/25\n",
      "250/250 [==============================] - 34s 136ms/step - loss: 0.5253 - accuracy: 0.7394 - val_loss: 0.5250 - val_accuracy: 0.7415\n",
      "Epoch 5/25\n",
      "250/250 [==============================] - 34s 136ms/step - loss: 0.5026 - accuracy: 0.7510 - val_loss: 0.5231 - val_accuracy: 0.7445\n",
      "Epoch 6/25\n",
      "250/250 [==============================] - 34s 137ms/step - loss: 0.4864 - accuracy: 0.7651 - val_loss: 0.5302 - val_accuracy: 0.7525\n",
      "Epoch 7/25\n",
      "250/250 [==============================] - 41s 164ms/step - loss: 0.4729 - accuracy: 0.7721 - val_loss: 0.5122 - val_accuracy: 0.7565\n",
      "Epoch 8/25\n",
      "250/250 [==============================] - 41s 166ms/step - loss: 0.4558 - accuracy: 0.7831 - val_loss: 0.5284 - val_accuracy: 0.7615\n",
      "Epoch 9/25\n",
      "250/250 [==============================] - 37s 149ms/step - loss: 0.4367 - accuracy: 0.7950 - val_loss: 0.5436 - val_accuracy: 0.7440\n",
      "Epoch 10/25\n",
      "250/250 [==============================] - 37s 150ms/step - loss: 0.4258 - accuracy: 0.8051 - val_loss: 0.4662 - val_accuracy: 0.7910\n",
      "Epoch 11/25\n",
      "250/250 [==============================] - 36s 144ms/step - loss: 0.4143 - accuracy: 0.8134 - val_loss: 0.4610 - val_accuracy: 0.7810\n",
      "Epoch 12/25\n",
      "250/250 [==============================] - 37s 148ms/step - loss: 0.4054 - accuracy: 0.8110 - val_loss: 0.4463 - val_accuracy: 0.8115\n",
      "Epoch 13/25\n",
      "250/250 [==============================] - 36s 146ms/step - loss: 0.4008 - accuracy: 0.8156 - val_loss: 0.4641 - val_accuracy: 0.7915\n",
      "Epoch 14/25\n",
      "250/250 [==============================] - 36s 143ms/step - loss: 0.3762 - accuracy: 0.8259 - val_loss: 0.4413 - val_accuracy: 0.8035\n",
      "Epoch 15/25\n",
      "250/250 [==============================] - 37s 149ms/step - loss: 0.3708 - accuracy: 0.8351 - val_loss: 0.4770 - val_accuracy: 0.7870\n",
      "Epoch 16/25\n",
      "250/250 [==============================] - 36s 143ms/step - loss: 0.3668 - accuracy: 0.8321 - val_loss: 0.4475 - val_accuracy: 0.7995\n",
      "Epoch 17/25\n",
      "250/250 [==============================] - 36s 145ms/step - loss: 0.3496 - accuracy: 0.8449 - val_loss: 0.4584 - val_accuracy: 0.8055\n",
      "Epoch 18/25\n",
      "250/250 [==============================] - 37s 147ms/step - loss: 0.3371 - accuracy: 0.8516 - val_loss: 0.4817 - val_accuracy: 0.7895\n",
      "Epoch 19/25\n",
      "250/250 [==============================] - 36s 146ms/step - loss: 0.3247 - accuracy: 0.8569 - val_loss: 0.5105 - val_accuracy: 0.7870\n",
      "Epoch 20/25\n",
      "250/250 [==============================] - 36s 144ms/step - loss: 0.3096 - accuracy: 0.8681 - val_loss: 0.4799 - val_accuracy: 0.7995\n",
      "Epoch 21/25\n",
      "250/250 [==============================] - 38s 150ms/step - loss: 0.2994 - accuracy: 0.8721 - val_loss: 0.5127 - val_accuracy: 0.7845\n",
      "Epoch 22/25\n",
      "250/250 [==============================] - 34s 137ms/step - loss: 0.2859 - accuracy: 0.8770 - val_loss: 0.4993 - val_accuracy: 0.7940\n",
      "Epoch 23/25\n",
      "250/250 [==============================] - 32s 129ms/step - loss: 0.2707 - accuracy: 0.8845 - val_loss: 0.5186 - val_accuracy: 0.7905\n",
      "Epoch 24/25\n",
      "250/250 [==============================] - 33s 134ms/step - loss: 0.2582 - accuracy: 0.8894 - val_loss: 0.5128 - val_accuracy: 0.8045\n",
      "Epoch 25/25\n",
      "250/250 [==============================] - 34s 135ms/step - loss: 0.2522 - accuracy: 0.8945 - val_loss: 0.5683 - val_accuracy: 0.7995\n"
     ]
    },
    {
     "data": {
      "text/plain": [
       "<tensorflow.python.keras.callbacks.History at 0x14bedcac0>"
      ]
     },
     "execution_count": 16,
     "metadata": {},
     "output_type": "execute_result"
    }
   ],
   "source": [
    "cnn.fit(x = trainingSet, validation_data = testSet, epochs = 25) # x = traning set, validation_data = TestSet, epochs = number of epochs to run (how many time to go through a set)"
   ]
  },
  {
   "cell_type": "markdown",
   "metadata": {},
   "source": [
    "## Part 4 - Making a single Prediciton"
   ]
  },
  {
   "cell_type": "code",
   "execution_count": 17,
   "metadata": {},
   "outputs": [],
   "source": [
    "import numpy as np\n",
    "from keras_preprocessing import image"
   ]
  },
  {
   "cell_type": "code",
   "execution_count": 20,
   "metadata": {},
   "outputs": [
    {
     "name": "stdout",
     "output_type": "stream",
     "text": [
      "{'cats': 0, 'dogs': 1}\n",
      "dog\n"
     ]
    }
   ],
   "source": [
    "testImage = image.load_img('dataset/single_prediction/cat_or_dog_1.jpg',target_size=(64,64)) # first argument is path to test image, second argument is scale mode (target size)\n",
    "testImage = image.img_to_array(testImage) #convert to a 2d array\n",
    "testImage = np.expand_dims(testImage, axis = 0) # same as batch size\n",
    "result = cnn.predict(testImage/255.0)\n",
    "#print(trainingSet.class_indices)\n",
    "if result[0][0] > 0.5:\n",
    "    prediction = 'dog'\n",
    "else:\n",
    "    prediction = 'cat'\n",
    "print(prediction)"
   ]
  },
  {
   "cell_type": "code",
   "execution_count": null,
   "metadata": {},
   "outputs": [],
   "source": []
  }
 ],
 "metadata": {
  "interpreter": {
   "hash": "aee8b7b246df8f9039afb4144a1f6fd8d2ca17a180786b69acc140d282b71a49"
  },
  "kernelspec": {
   "display_name": "Python 3.9.5 64-bit",
   "name": "python3"
  },
  "language_info": {
   "codemirror_mode": {
    "name": "ipython",
    "version": 3
   },
   "file_extension": ".py",
   "mimetype": "text/x-python",
   "name": "python",
   "nbconvert_exporter": "python",
   "pygments_lexer": "ipython3",
   "version": "3.9.5"
  },
  "orig_nbformat": 4
 },
 "nbformat": 4,
 "nbformat_minor": 2
}
